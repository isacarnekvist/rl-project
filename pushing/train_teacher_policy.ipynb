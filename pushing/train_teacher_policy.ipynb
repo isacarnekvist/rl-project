{
 "cells": [
  {
   "cell_type": "code",
   "execution_count": 1,
   "metadata": {},
   "outputs": [],
   "source": [
    "import sys\n",
    "import copy\n",
    "\n",
    "import gym\n",
    "import torch\n",
    "import numpy as np\n",
    "import matplotlib.pyplot as plt\n",
    "import torch.nn.functional as F\n",
    "from tensorboardX import SummaryWriter\n",
    "\n",
    "from pushing.rl import (\n",
    "    ParameterNoise,\n",
    "    WelfordNormalization,\n",
    "    Actor,\n",
    "    Critic\n",
    ")\n",
    "from stitching.rl import (\n",
    "    StateActionFunction,\n",
    "    ReplayBuffer,\n",
    "    PopTart,\n",
    "    soft_update,\n",
    ")"
   ]
  },
  {
   "cell_type": "code",
   "execution_count": 2,
   "metadata": {},
   "outputs": [
    {
     "name": "stderr",
     "output_type": "stream",
     "text": [
      "INFO: Creating SimplePusher environment with rotation_x: 0.03\n"
     ]
    }
   ],
   "source": [
    "buffer = ReplayBuffer(int(100000))\n",
    "dataloader = torch.utils.data.DataLoader(buffer, batch_size=128, shuffle=True)\n",
    "env = gym.make('SimplePusher-v0')\n",
    "obs = env.reset()\n",
    "gamma = 0.99"
   ]
  },
  {
   "cell_type": "code",
   "execution_count": 3,
   "metadata": {},
   "outputs": [],
   "source": [
    "critic = Critic(env.observation_space.shape[0], env.action_space.shape[0])\n",
    "critic_target = copy.deepcopy(critic)\n",
    "actor = Actor(env.observation_space.shape[0], env.action_space.shape[0])\n",
    "actor_target = copy.deepcopy(actor)\n",
    "\n",
    "norm_q = PopTart()\n",
    "parameter_noise = ParameterNoise(actor, 0.2)\n",
    "\n",
    "def parameters():\n",
    "    for model in [critic, norm_q]:\n",
    "        for parameter in model.parameters():\n",
    "            yield parameter\n",
    "\n",
    "critic_opt = torch.optim.Adam(parameters())\n",
    "actor_opt = torch.optim.Adam(actor.parameters(), weight_decay=1e-2)\n",
    "\n",
    "logger = SummaryWriter('runs/rolling_return_save')\n",
    "\n",
    "if torch.cuda.is_available:\n",
    "    actor.cuda()\n",
    "    actor_target.cuda()\n",
    "    critic.cuda()\n",
    "    critic_target.cuda()\n",
    "    norm_q.cuda()\n",
    "    parameter_noise.cuda()\n",
    "    \n",
    "def action_transform(u):\n",
    "    \"\"\"\n",
    "    Transforms from [-1, 1] to [actionspace.low, actionspace.high]\n",
    "    \"\"\"\n",
    "    u_01 = (u + 1) / 2\n",
    "    action_range = (env.action_space.high - env.action_space.low)\n",
    "    return u_01 * action_range + env.action_space.low\n",
    "\n",
    "def nn_policy(obs):\n",
    "    x = torch.cuda.FloatTensor(obs.reshape(1, -1))\n",
    "    u = actor(x).cpu().detach().numpy().flatten()\n",
    "    return u"
   ]
  },
  {
   "cell_type": "code",
   "execution_count": 4,
   "metadata": {},
   "outputs": [],
   "source": [
    "nb_rollout_steps = 100\n",
    "nb_epoch_cycles = 20\n",
    "nb_epochs = int(1000000 / (nb_rollout_steps * nb_epoch_cycles))\n",
    "nb_train_steps = 50\n",
    "\n",
    "\n",
    "def rollout(policy, epsilon=0.0, render=False, fill_buffer=True, nb_rollout_steps=nb_rollout_steps):\n",
    "    obs = env.reset()\n",
    "    R = 0.0\n",
    "    for t in range(nb_rollout_steps):\n",
    "        if np.random.rand() > epsilon:\n",
    "            u = policy(obs)\n",
    "        else:\n",
    "            u = 2 * np.random.rand(2) - 1\n",
    "        obs_, r, done, info = env.step(action_transform(u))\n",
    "        if render:\n",
    "            env.render()\n",
    "        R += gamma ** t * r\n",
    "        if fill_buffer:\n",
    "            buffer.append((obs.astype(np.float32),\n",
    "                           u.astype(np.float32),\n",
    "                           np.array([r]).astype(np.float32),\n",
    "                           obs_.astype(np.float32)))\n",
    "        obs = obs_\n",
    "    return R\n",
    "\n",
    "\n",
    "def make_true_bootstrap(x, u, V_, i=0):\n",
    "    x[i, -2:] = 0.0\n",
    "    u[i] = 0.0\n",
    "    V_[i] = r[i] / (1 - gamma)\n",
    "\n",
    "    \n",
    "while len(buffer) < 50000:\n",
    "    rollout(nn_policy, epsilon=1.0)"
   ]
  },
  {
   "cell_type": "code",
   "execution_count": 5,
   "metadata": {},
   "outputs": [
    {
     "data": {
      "text/plain": [
       "<matplotlib.image.AxesImage at 0x7fdbe38c7e80>"
      ]
     },
     "execution_count": 5,
     "metadata": {},
     "output_type": "execute_result"
    },
    {
     "data": {
      "image/png": "[encoded data removed]",
      "text/plain": [
       "<Figure size 432x288 with 1 Axes>"
      ]
     },
     "metadata": {},
     "output_type": "display_data"
    }
   ],
   "source": [
    "def plot_v():\n",
    "    res = 100\n",
    "    min_x, max_x = (-0.2, 0.2)\n",
    "    min_y, max_y = (-0.3, 0.1)\n",
    "    x = torch.zeros(res * res, env.env.observation_space.shape[0]).cuda()\n",
    "    u = torch.zeros(res * res, env.env.action_space.shape[0]).cuda()\n",
    "    q = torch.zeros(res * res, 1).cuda()\n",
    "    for row, eef_x in enumerate(np.linspace(min_x, max_x, res)):\n",
    "        for col, eef_y in enumerate(np.linspace(min_y, max_y, res)):\n",
    "            x[col * res + row, :] = torch.cuda.FloatTensor([eef_x, eef_y, 0.0, 0.0, 0.0, 0.1, 0.0])\n",
    "    q = critic(x, u)\n",
    "    q_np = q.cpu().detach().numpy().reshape((res, res))\n",
    "    plt.imshow(q_np, origin='lower', extent=[min_x, max_x, min_y, max_y])\n",
    "    plt.colorbar()\n",
    "    fig = plt.gcf()\n",
    "    fig.canvas.draw()\n",
    "    plot_img = np.array(fig.canvas.renderer._renderer)\n",
    "    plt.close()\n",
    "    return plot_img\n",
    "    \n",
    "def plot_q():\n",
    "    res = 100\n",
    "    min_ux, max_ux = (-1.0, 1.0)\n",
    "    min_uy, max_uy = (-1.0, 1.0)\n",
    "    x = torch.zeros(res * res, env.env.observation_space.shape[0]).cuda()\n",
    "    u = torch.zeros(res * res, env.env.action_space.shape[0]).cuda()\n",
    "    q = torch.zeros(res * res, 1).cuda()\n",
    "    for row, u_x in enumerate(np.linspace(min_ux, max_ux, res)):\n",
    "        for col, u_y in enumerate(np.linspace(min_uy, max_uy, res)):\n",
    "            x[col * res + row, :] = torch.cuda.FloatTensor([0.0, -0.25, 0.0, 0.0, 0.0, 0.1, 0.0])\n",
    "            u[col * res + row, :] = torch.cuda.FloatTensor([u_x, u_y])\n",
    "    q = critic(x, u)\n",
    "    π_u = actor(x)[0].cpu().detach().numpy()\n",
    "    q_np = q.cpu().detach().numpy().reshape((res, res))\n",
    "    plt.imshow(q_np, origin='lower', extent=[min_ux, max_ux, min_uy, max_uy])\n",
    "    plt.plot(*π_u, 'ko', markersize=10.0)\n",
    "    plt.plot(*π_u, 'wo', markersize=8.0)\n",
    "    plt.colorbar()\n",
    "    fig = plt.gcf()\n",
    "    fig.canvas.draw()\n",
    "    plot_img = np.array(fig.canvas.renderer._renderer)\n",
    "    plt.close()\n",
    "    return plot_img\n",
    "    \n",
    "    \n",
    "def plot_actor():\n",
    "    res = 16\n",
    "    min_x, max_x = (-0.2, 0.2)\n",
    "    min_y, max_y = (-0.3, 0.1)\n",
    "    x = torch.zeros(res * res, env.env.observation_space.shape[0]).cuda()\n",
    "    for row, eef_x in enumerate(np.linspace(min_x, max_x, res)):\n",
    "        for col, eef_y in enumerate(np.linspace(min_y, max_y, res)):\n",
    "            x[col * res + row, :] = torch.cuda.FloatTensor([eef_x, eef_y, 0.0, 0.0, 0.0, 0.1, 0.0])\n",
    "    u = actor(x)\n",
    "    x = x.cpu().detach().numpy()\n",
    "    u = u.cpu().detach().numpy()\n",
    "    k = 0.01\n",
    "    for u_row, x_row in zip(u, x):\n",
    "        plt.arrow(x_row[0], x_row[1], k * u_row[0], k * u_row[1])\n",
    "    plt.xlim(min_x, max_x)\n",
    "    plt.ylim(min_y, max_y)\n",
    "    fig = plt.gcf()\n",
    "    fig.canvas.draw()\n",
    "    plot_img = np.array(fig.canvas.renderer._renderer)\n",
    "    plt.close()\n",
    "    return plot_img\n",
    "    \n",
    "plt.imshow(plot_v())"
   ]
  },
  {
   "cell_type": "code",
   "execution_count": 6,
   "metadata": {},
   "outputs": [],
   "source": [
    "def noise_estimate(x):\n",
    "    u_no_noise = actor(x)\n",
    "    parameter_noise.apply()\n",
    "    u_noise = actor(x)\n",
    "    parameter_noise.reset()\n",
    "    d = ((u_noise - u_no_noise) ** 2).mean().sqrt()\n",
    "    return d"
   ]
  },
  {
   "cell_type": "code",
   "execution_count": 10,
   "metadata": {
    "scrolled": true
   },
   "outputs": [],
   "source": [
    "actor.train()\n",
    "critic.train()\n",
    "\n",
    "rolling_return = None\n",
    "best_rolling_return = -np.inf\n",
    "\n",
    "for epoch in range(nb_epochs):\n",
    "    for cycle in range(nb_epoch_cycles):\n",
    "        \n",
    "        # Rollouts\n",
    "        parameter_noise.apply()\n",
    "        rollout(nn_policy, epsilon=0.01, nb_rollout_steps=nb_rollout_steps)\n",
    "        parameter_noise.reset()\n",
    "        \n",
    "        # Train\n",
    "        for batch_ind, batch in enumerate(dataloader):\n",
    "            if batch_ind >= nb_train_steps:\n",
    "                break\n",
    "\n",
    "            x, u, r, x_ = map(lambda x: x.cuda(), batch)\n",
    "\n",
    "            # Update parameter noise\n",
    "            d = noise_estimate(x)\n",
    "            parameter_noise.feedback(d)\n",
    "\n",
    "            # update critic\n",
    "            q_target = r + gamma * norm_q(critic_target(x_, actor_target(x_)))\n",
    "            q_loss = norm_q.mse_loss(critic(x, u), q_target.detach())\n",
    "            critic_opt.zero_grad()\n",
    "            q_loss.backward(retain_graph=True)\n",
    "            critic_opt.step()\n",
    "\n",
    "            # update actor\n",
    "            actor_u = actor(x)\n",
    "            actor_loss = -critic(x, actor_u).mean() + 0.1 * (actor_u ** 2).mean()\n",
    "            actor_opt.zero_grad()\n",
    "            actor_loss.backward()\n",
    "            actor_opt.step()\n",
    "\n",
    "            soft_update(critic_target, critic, 0.001)\n",
    "            soft_update(actor_target, actor, 0.001)\n",
    "            \n",
    "        step = (epoch * nb_epoch_cycles + cycle) * nb_rollout_steps\n",
    "\n",
    "        logger.add_scalar('q_loss', q_loss, step)\n",
    "        logger.add_scalar('actor_loss', actor_loss, step)\n",
    "        \n",
    "        # Evaluate\n",
    "        R_eval = rollout(nn_policy,\n",
    "                         epsilon=0.0,\n",
    "                         nb_rollout_steps=nb_rollout_steps,\n",
    "                         render=False,\n",
    "                         fill_buffer=False)\n",
    "        if rolling_return is None:\n",
    "            rolling_return = R_eval\n",
    "        else:\n",
    "            rolling_return = 0.8 * rolling_return + 0.2 * R_eval\n",
    "        if rolling_return > best_rolling_return:\n",
    "            best_rolling_return = rolling_return\n",
    "            torch.save(actor.state_dict(), './saved_models/actor.pt')\n",
    "            torch.save(critic.state_dict(), './saved_models/critic.pt')\n",
    "            torch.save(norm_q.state_dict(), './saved_models/norm_q.pt')\n",
    "        logger.add_scalar('rolling_return', rolling_return, step)\n",
    "        logger.add_scalar('R_eval', R_eval, step)"
   ]
  },
  {
   "cell_type": "code",
   "execution_count": 9,
   "metadata": {},
   "outputs": [
    {
     "data": {
      "text/plain": [
       "(371, 8)"
      ]
     },
     "execution_count": 9,
     "metadata": {},
     "output_type": "execute_result"
    }
   ],
   "source": [
    "epoch, cycle"
   ]
  },
  {
   "cell_type": "code",
   "execution_count": 29,
   "metadata": {},
   "outputs": [
    {
     "name": "stdout",
     "output_type": "stream",
     "text": [
      "[ 0.03707972 -0.16927361]\n",
      "[ 0.03151616 -0.15627235]\n",
      "[3.335022]\n",
      "[-0.4933367  0.8698384]\n"
     ]
    },
    {
     "data": {
      "image/png": "[encoded data removed]",
      "text/plain": [
       "<Figure size 432x432 with 1 Axes>"
      ]
     },
     "metadata": {},
     "output_type": "display_data"
    }
   ],
   "source": [
    "batch = next(iter(dataloader))\n",
    "x, u, r, x_ = map(lambda x: x.cuda(), batch)\n",
    "\n",
    "fig = plt.figure(figsize=(6, 6))\n",
    "i = np.random.randint(0, 128)\n",
    "x_np = x[i].cpu().numpy()\n",
    "x_np_ = x_[i].cpu().numpy()\n",
    "print(x_np[:2])\n",
    "print(x_np_[:2])\n",
    "plt.plot(*x_np[:2], 'ko')\n",
    "plt.plot(*x_np_[:2], 'ko', alpha=0.5)\n",
    "plt.plot(*x_np[2:4], 'bo')\n",
    "print(r[i].cpu().detach().numpy())\n",
    "print(u[i].cpu().detach().numpy())\n",
    "plt.xlim(-0.2, 0.2)\n",
    "plt.ylim(-0.3, 0.1)\n",
    "plt.show()"
   ]
  },
  {
   "cell_type": "code",
   "execution_count": 63,
   "metadata": {},
   "outputs": [],
   "source": [
    "parameter_noise.apply()\n",
    "rollout(nn_policy, epsilon=0.01, render=True, fill_buffer=False)\n",
    "parameter_noise.reset()"
   ]
  }
 ],
 "metadata": {
  "kernelspec": {
   "display_name": "Python 3",
   "language": "python",
   "name": "python3"
  }
 },
 "nbformat": 4,
 "nbformat_minor": 2
}
